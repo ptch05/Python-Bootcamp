{
  "nbformat": 4,
  "nbformat_minor": 0,
  "metadata": {
    "colab": {
      "provenance": []
    },
    "kernelspec": {
      "name": "python3",
      "display_name": "Python 3"
    },
    "language_info": {
      "name": "python"
    }
  },
  "cells": [
    {
      "cell_type": "code",
      "execution_count": null,
      "metadata": {
        "colab": {
          "base_uri": "https://localhost:8080/"
        },
        "id": "8x-yY4iPkbVB",
        "outputId": "ba289cff-136a-4ab6-ca8a-423cc2100197"
      },
      "outputs": [
        {
          "output_type": "stream",
          "name": "stdout",
          "text": [
            "('apple', 1, 'corn')\n",
            "<class 'tuple'>\n",
            "(2, ('apple', 1, 'corn'))\n"
          ]
        }
      ],
      "source": [
        "# Tuples\n",
        "#collection which is ordered (so can't move elements around) and unchangeable, allow duplicate values and allow different data types inside too.\n",
        "\n",
        "#Tuples are used to store data that doesn't change frequently (its immutable). It's also hashable which means you can use it as a dictionary key.\n",
        "\n",
        "#Take up less memory than a list so if you're sure the elements absolutely won't change, use a tuple\n",
        "my_tuple = (\"apple\", 1, \"corn\")\n",
        "\n",
        "print(my_tuple)\n",
        "print(type(my_tuple))\n",
        "\n",
        "new_tuple = (2, my_tuple) #Tuples are immutable so can only add a tuple to a tuple to add to it\n",
        "print(new_tuple)\n",
        "next_tuple = (2, \"apple\", (3, 4))\n",
        "\n"
      ]
    },
    {
      "cell_type": "code",
      "source": [
        "empty_tuple = ()\n",
        "\n",
        "#Can turn something into a tuple by:\n",
        "example_tuple = tuple((\"Bob\", 36, \"London\"))\n",
        "\n",
        "fruit_tuple = (\"apple\", \"banana\")\n",
        "print(type(fruit_tuple))\n",
        "\n",
        "print(fruit_tuple[-1]) #returns last element of the tuple"
      ],
      "metadata": {
        "colab": {
          "base_uri": "https://localhost:8080/"
        },
        "id": "g-XYaXarncwx",
        "outputId": "2be4d58a-d3d4-4476-9ad2-317ead403111"
      },
      "execution_count": null,
      "outputs": [
        {
          "output_type": "stream",
          "name": "stdout",
          "text": [
            "<class 'tuple'>\n",
            "banana\n"
          ]
        }
      ]
    },
    {
      "cell_type": "code",
      "source": [
        "my_tuple = (\"red\", 3, \"blue\", \"green\")\n",
        "print(my_tuple[::2]) # works by [start: stop], so it goes from the element in start (if none stated then it defaults to 0) UP TO the element in stop (not including stop), [start:stop:step] step is just the increment value, so if you put in -1, it would go backwards"
      ],
      "metadata": {
        "colab": {
          "base_uri": "https://localhost:8080/"
        },
        "id": "0yOZm5d2oMSt",
        "outputId": "6e3765a4-3be1-40d7-a798-54c59f50065a"
      },
      "execution_count": null,
      "outputs": [
        {
          "output_type": "stream",
          "name": "stdout",
          "text": [
            "('red', 'blue')\n"
          ]
        }
      ]
    },
    {
      "cell_type": "markdown",
      "source": [
        "start:stop\n",
        "start:stop:step"
      ],
      "metadata": {
        "id": "lE_taOhmlUv-"
      }
    },
    {
      "cell_type": "code",
      "source": [
        "my_tuple = (\"Banana\", 2)\n",
        "new_tuple = (3, 4)\n",
        "\n",
        "third_tuple = (my_tuple, new_tuple, 3)\n",
        "print(third_tuple)"
      ],
      "metadata": {
        "colab": {
          "base_uri": "https://localhost:8080/"
        },
        "id": "km98YfRwp40q",
        "outputId": "3a62e347-4461-4285-bd93-08680974581b"
      },
      "execution_count": null,
      "outputs": [
        {
          "output_type": "stream",
          "name": "stdout",
          "text": [
            "(('Banana', 2), (3, 4), 3)\n"
          ]
        }
      ]
    },
    {
      "cell_type": "code",
      "source": [
        "first_tuple = (3, 4)\n",
        "second_tuple = (4, 3)\n",
        "print(first_tuple > second_tuple)\n",
        "\n",
        "\n",
        "\n",
        "print(len(first_tuple)) #returns length of tuple"
      ],
      "metadata": {
        "colab": {
          "base_uri": "https://localhost:8080/"
        },
        "id": "U9S6a6OfqPMT",
        "outputId": "deedf7ad-1b48-453a-fd0f-0823cb083634"
      },
      "execution_count": null,
      "outputs": [
        {
          "output_type": "stream",
          "name": "stdout",
          "text": [
            "False\n",
            "2\n"
          ]
        }
      ]
    },
    {
      "cell_type": "code",
      "source": [
        "my_tuple = (1, 2, 3)\n",
        "\n",
        "print(2 in my_tuple) #Returns if that value is in the tuple"
      ],
      "metadata": {
        "colab": {
          "base_uri": "https://localhost:8080/"
        },
        "id": "CxU7m272qtQe",
        "outputId": "d19d548f-21ab-498b-95a1-82ee782bc283"
      },
      "execution_count": null,
      "outputs": [
        {
          "output_type": "stream",
          "name": "stdout",
          "text": [
            "True\n"
          ]
        }
      ]
    },
    {
      "cell_type": "code",
      "source": [
        "my_tuple = (3, \"apple\", \"banana\", 1)\n",
        "\n",
        "\n",
        "a, *rest = my_tuple #Unpacking a tuple, so right now \"a\" corresponds to \"3\", *rest is apple banana and 1. If it was a,b,c,d = my_tuple, \"d\" would be 1 etc etc\n",
        "print(*rest)\n"
      ],
      "metadata": {
        "colab": {
          "base_uri": "https://localhost:8080/"
        },
        "id": "nG0qVbJ8rb__",
        "outputId": "2ae6a9a6-9efc-4e15-c874-7d94fec9e9b2"
      },
      "execution_count": null,
      "outputs": [
        {
          "output_type": "stream",
          "name": "stdout",
          "text": [
            "apple banana 1\n"
          ]
        }
      ]
    },
    {
      "cell_type": "code",
      "source": [
        "# SETS\n",
        "# A set is a collection which is unordered, unCHANGEable*, and unindexed.\n",
        "# Removes all duplicates"
      ],
      "metadata": {
        "id": "2MYN16rXsCUk"
      },
      "execution_count": null,
      "outputs": []
    },
    {
      "cell_type": "code",
      "source": [
        "my_set1 = set() # This would make an empty set\n",
        "\n",
        "my_set2 = set([1,2,3]) #This is turning the list (as shown by the [] usage) into a set\n",
        "\n",
        "my_set3 = {1, 2, 3} #Use {} to make a set, just this time unlike with dictionaries, you dont add key value pairs"
      ],
      "metadata": {
        "id": "t9W-WkAXsI43"
      },
      "execution_count": null,
      "outputs": []
    },
    {
      "cell_type": "code",
      "source": [
        "my_set = {1, 2, 3, 3}\n",
        "print(my_set)"
      ],
      "metadata": {
        "colab": {
          "base_uri": "https://localhost:8080/"
        },
        "id": "k3hhM6shsgmd",
        "outputId": "eac8eebb-7ceb-4b1a-856d-5c5f157adcc3"
      },
      "execution_count": null,
      "outputs": [
        {
          "output_type": "stream",
          "name": "stdout",
          "text": [
            "{1, 2, 3}\n"
          ]
        }
      ]
    },
    {
      "cell_type": "code",
      "source": [
        "my_set = {1, 2, 3}\n",
        "\n",
        "my_set.add(\"fruits\") # Adding ONE element to the set\n",
        "print(my_set)\n",
        "\n",
        "my_set.update([\"apples\", 4]) #Adding multiple elements from any iterables (iterables are tuples, sets and lists, in this case its a list) to a set\n",
        "print(my_set)\n",
        "\n",
        "my_set.remove(\"apples\") #Removing an element from a set\n",
        "print(my_set)"
      ],
      "metadata": {
        "colab": {
          "base_uri": "https://localhost:8080/"
        },
        "id": "iW-_j5CwsqLV",
        "outputId": "98aaff5d-2839-493d-af3f-8aff14cdd641"
      },
      "execution_count": null,
      "outputs": [
        {
          "output_type": "stream",
          "name": "stdout",
          "text": [
            "{1, 2, 3, 'fruits'}\n",
            "{1, 2, 3, 4, 'apples', 'fruits'}\n",
            "{1, 2, 3, 4, 'fruits'}\n"
          ]
        }
      ]
    },
    {
      "cell_type": "code",
      "source": [
        "genres = {\"Pop\", \"Rock\", \"Jazz\", \"Classical\", \"Pop\"}\n",
        "\n",
        "#Check if element is in the set\n",
        "if \"Rap\" not in genres:\n",
        "  print(True)"
      ],
      "metadata": {
        "id": "x1pNxA0otJZX",
        "colab": {
          "base_uri": "https://localhost:8080/"
        },
        "outputId": "0da2c26c-ec4b-4711-b56d-2ba51bb0bf08"
      },
      "execution_count": null,
      "outputs": [
        {
          "output_type": "stream",
          "name": "stdout",
          "text": [
            "True\n"
          ]
        }
      ]
    },
    {
      "cell_type": "markdown",
      "source": [
        "membeship testing - 'in' or 'not in'"
      ],
      "metadata": {
        "id": "bgXtaBPUtZV2"
      }
    },
    {
      "cell_type": "code",
      "source": [
        "set1 = {1, 2, 3}\n",
        "set2 = {3, 4, 5}\n",
        "\n",
        "# Union: Combines elements from both sets without duplicates\n",
        "union_set = set1.union(set2)\n",
        "print(union_set)\n",
        "\n",
        "# Intersection: Finds common elements between both sets\n",
        "intersection_set = set1.intersection(set2)\n",
        "print(intersection_set)\n",
        "\n",
        "# Difference: Finds elements in set1 that are not in set2\n",
        "difference_set = set1.difference(set2)\n",
        "print(difference_set)\n",
        "print(set1 - set2)\n",
        "\n",
        "# Symmetric Difference: Finds elements that are in either set1 or set2, but not both\n",
        "symmetric_difference = set1.symmetric_difference(set2)\n",
        "print(symmetric_difference)  # Output: {1, 2, 4, 5}\n",
        "\n",
        "# isdisjoint: Checks if set1 and set2 have no elements in common\n",
        "print(set1.isdisjoint(set2))\n",
        "\n",
        "# issubset: Checks if all elements of set1 are contained within set2\n",
        "# This will return False since set1 has elements (1, 2) that are not in set2.\n",
        "print(set1.issubset(set2))\n"
      ],
      "metadata": {
        "colab": {
          "base_uri": "https://localhost:8080/"
        },
        "id": "eHAIsglCthvA",
        "outputId": "2f12dfde-9ab7-447f-da20-67c32a5f1917"
      },
      "execution_count": null,
      "outputs": [
        {
          "output_type": "stream",
          "name": "stdout",
          "text": [
            "{1, 2, 3, 4, 5}\n",
            "{3}\n",
            "{1, 2}\n",
            "{1, 2}\n",
            "{1, 2, 4, 5}\n",
            "False\n",
            "False\n"
          ]
        }
      ]
    },
    {
      "cell_type": "code",
      "source": [
        "#Lambda functions\n",
        "#Small anonymous function defined with the lambda keyword unlike def. It can have any number of parameters but only one expression and it returns the result of that expression.\n",
        "#To make a lambda function you have to use this format \"lambda arguments: expression\"\n",
        "\n",
        "# A simple lambda function to add 10 to a number\n",
        "add_ten = lambda x: x+ 10\n",
        "print(add_ten(5))\n",
        "\n",
        "# Lambda function with two arguments\n",
        "add = lambda x, y: x + y\n",
        "\n",
        "# Lambda function with three arguments\n",
        "multiply = lambda x, y, z: x*y*z\n",
        "\n",
        "#map() applies a function to all items in an iterable and returns a map object\n",
        "# Example: Doubling all numbers in a list\n",
        "numbers = [1,2,3,4]\n",
        "doubled = list(map(lambda x: x * 2, numbers))\n",
        "\n",
        "print(doubled)\n",
        "\n",
        "#filter() filters items from an iterable based on a condition.\n",
        "numbers = [1,2,3,4,5,6]\n",
        "evens = list(filter(lambda x: x % 2 == 0, numbers))\n",
        "print(evens)\n",
        "\n",
        "#sorted()\n",
        "#reduce(), these 2 functions also exist but just won't be going through them.\n"
      ],
      "metadata": {
        "colab": {
          "base_uri": "https://localhost:8080/"
        },
        "id": "2HMd2oFqvrdy",
        "outputId": "dfa12470-5cfd-48e3-f7e9-8cacc69460d7"
      },
      "execution_count": null,
      "outputs": [
        {
          "output_type": "stream",
          "name": "stdout",
          "text": [
            "15\n",
            "[2, 4, 6, 8]\n",
            "[2, 4, 6]\n"
          ]
        }
      ]
    },
    {
      "cell_type": "code",
      "source": [
        "#Modules\n",
        "#Simply a file that contains defintions of functions, classes and variables that you can reuse in other files/programs.\n",
        "#Good for code reusability and maintainability\n",
        "#Can't exactly do this in one colab file but you can understand where this is going\n",
        "\n",
        "# For example, create a file called maths_operations.py\n",
        "\n",
        "def add(x, y):\n",
        "    return x + y\n",
        "\n",
        "def sub(x, y):\n",
        "    return x - y\n",
        "\n",
        "z = 23.6"
      ],
      "metadata": {
        "id": "4JghR6Ch0bGV"
      },
      "execution_count": null,
      "outputs": []
    },
    {
      "cell_type": "code",
      "source": [
        "#Hypothetically, be in a different file right now (this cell will return an error) and you can do:\n",
        "import maths_operations #This will import the entire module\n",
        "\n",
        "res = maths_operations.add(5,10) #This would output 15\n",
        "print(maths_operations.z) #would output 23.6\n",
        "\n",
        "\n",
        "#To import specific functions or variables from a module\n",
        "from maths_operations import add, sub, z\n",
        "\n",
        "\n",
        "#Import all contents from a module (not recommended)\n",
        "from maths_operations import *\n",
        "#The issue with this is that there could be naming conflicts with other parts of your code or other modules\n",
        "\n",
        "#Can also create an alias for a module to shorten the name, for example:\n",
        "import maths_operations as mo\n",
        "\n",
        "\n",
        "#There's a bunch of in-built modules in python you can use eg math, random, os (for interacting with the operating system), datetime.\n",
        "#For example: import random\n",
        "\n",
        "import random\n",
        "\n",
        "# Generate a random number between 1 and 10\n",
        "print(random.randint(1, 10))"
      ],
      "metadata": {
        "id": "kmPQRADoP_6i"
      },
      "execution_count": null,
      "outputs": []
    },
    {
      "cell_type": "code",
      "source": [
        "#Classes\n",
        "#Python, Java, C++, C++ etc are all examples of object oriented programming languages.\n",
        "# Python is constantly using objects but you just don't realise it\n",
        "\n",
        "#There's 4 pillars of Object Oriented Programming:\n",
        "#Inheritance\n",
        "#Polymorphism\n",
        "#Encapsulation\n",
        "#Abstraction\n",
        "\n",
        "print(type(\"abc\")) #This would output <class 'str'>. It's saying that abc is an object of the class string.\n",
        "x =3.3\n",
        "print(type(3.3)) #similarly with this, it'll say float\n",
        "\n",
        "#What exactly is a class?\n",
        "#A class is like a blueprint or a template for creating objects.\n",
        "\n",
        "#What is an object?\n",
        "#Python Objects are basically an encapsulation of data variables and methods acting on that data into a single entity.\n",
        "\n"
      ],
      "metadata": {
        "colab": {
          "base_uri": "https://localhost:8080/"
        },
        "id": "qudcSH821mML",
        "outputId": "e9e87283-abe8-4832-984c-7f2bf7518901"
      },
      "execution_count": null,
      "outputs": [
        {
          "output_type": "stream",
          "name": "stdout",
          "text": [
            "<class 'str'>\n",
            "<class 'float'>\n"
          ]
        }
      ]
    },
    {
      "cell_type": "code",
      "source": [
        "class Car:\n",
        "  def __init__(self, brand, model, year):\n",
        "    self.brand = brand\n",
        "    self.model = model\n",
        "    self.year = year\n",
        "\n",
        "  def details(self):\n",
        "    return f\"This is a {self.brand} {self.model} {self.year}\"\n",
        "\n",
        "#\"class Car\" is a blueprint for creating a \"Car\" object\n",
        "\n",
        "#The __init__ method is the constructor. It initializes the object's attributes. It's called every time you create a new object from a class.\n",
        "\n",
        "#\"self\" is a reference to the current object being created. It allows you to refer to the object’s attributes and methods inside the class. You could call it anything else apart from \"self\" but just stick with that for naming convention.\n",
        "\n",
        "#self.brand (for example): This is an attribute of the object being created. self.brand will store the brand of the object.\n",
        "\n",
        "#details is a method. Methods in objects are functions that belong to the object.\n",
        "\n",
        "\n",
        "car1 = Car(\"Toyota\", \"Camry\", 2020)\n",
        "print(car1.details())\n",
        "\n",
        "\n",
        "print(car1.brand)\n",
        "print(car1.details())\n",
        "\n",
        "#Can change object properties\n",
        "car1.year = 2019\n",
        "print(car1.year)\n",
        "\n",
        "\n",
        "car2 = Car(\"Bugatti\", \"Veyron\", \"2010\")\n",
        "print(car2.details())\n",
        "\n"
      ],
      "metadata": {
        "colab": {
          "base_uri": "https://localhost:8080/"
        },
        "id": "5EPCPZ-LOII0",
        "outputId": "f01a6c14-b6d9-47bc-d0e9-82deb9e33135"
      },
      "execution_count": null,
      "outputs": [
        {
          "output_type": "stream",
          "name": "stdout",
          "text": [
            "This is a Toyota Camry 2020\n",
            "Toyota\n",
            "This is a Toyota Camry 2020\n",
            "2019\n",
            "This is a Bugatti Veyron 2010\n"
          ]
        }
      ]
    },
    {
      "cell_type": "code",
      "source": [
        "#Inheritance\n",
        "#Allows one class to inherit the attributes and methods of another.\n",
        "\n",
        "class Car:\n",
        "  def __init__(self, brand, model):\n",
        "    self.brand = brand\n",
        "    self.model = model\n",
        "\n",
        "  def details(self):\n",
        "    return f\"{self.brand} {self.model}\"\n",
        "\n",
        "class ElectricCar(Car):\n",
        "  def __init__(self,brand, model, battery_capacity):\n",
        "    # Call the constructor of the parent class (Car)\n",
        "    super().__init__(brand, model)\n",
        "    # Add a new attribute specific to the ElectricCar class\n",
        "    self.battery_capacity = battery_capacity\n",
        "\n",
        "car1 = Car(\"Toyota\", \"Camry\")\n",
        "electric_car1 = ElectricCar(\"Tesla\", \"Model S\", 100)\n",
        "\n",
        "print(electric_car1.details())"
      ],
      "metadata": {
        "colab": {
          "base_uri": "https://localhost:8080/"
        },
        "id": "KDA4MbMw3zGD",
        "outputId": "408f7d80-831c-4e8b-c2ce-715db6b91601"
      },
      "execution_count": null,
      "outputs": [
        {
          "output_type": "stream",
          "name": "stdout",
          "text": [
            "Tesla Model S\n"
          ]
        }
      ]
    },
    {
      "cell_type": "code",
      "source": [
        "#Encapsulation\n",
        "#Hiding internal attributes from outside access.\n",
        "#Much stricter in a language like Java where you declare the variable as private, however it's still good to know about it here\n",
        "class Car:\n",
        "  def __init__(self, brand, model):\n",
        "    self.__brand = brand # _ means protected, __ means private in which you can only use that attribute inside that class\n",
        "    self.__model = model\n",
        "\n",
        "  # Public \"getter\" method to get the brand\n",
        "  def get_brand(self):\n",
        "    return self.__brand\n",
        "\n",
        "  # Public \"setter\" method to set a new brand\n",
        "  def set_brand(self, new_brand):\n",
        "    self.__brand = new_brand\n",
        "\n",
        "car = Car(\"Porsche\", \"911\")\n",
        "\n",
        "#print(car.__brand) returns an error\n",
        "print(car.get_brand())\n",
        "\n",
        "car.set_brand(\"Mercedes\") #Using the setter method to change that attribute\n",
        "print(car.get_brand())\n",
        "\n"
      ],
      "metadata": {
        "colab": {
          "base_uri": "https://localhost:8080/"
        },
        "id": "cl7jlPrl5OvA",
        "outputId": "4a77db13-e652-4eb6-c996-e3e61cebedf0"
      },
      "execution_count": null,
      "outputs": [
        {
          "output_type": "stream",
          "name": "stdout",
          "text": [
            "Porsche\n",
            "Mercedes\n"
          ]
        }
      ]
    },
    {
      "cell_type": "code",
      "source": [
        "#Abstraction\n",
        "\n",
        "#By making a class abstract, you ensure that all subclasses must implement certain methods.\n",
        "#If a subclass does not provide an implementation, Python will throw an error. This guarantees consistency across all subclasses.\n",
        "\n",
        "#Imagine you have different types of vehicles, but you don’t want to deal with how they actually move; you just want a simple interface (move()) to make any vehicle move.\n",
        "\n",
        "from abc import ABC, abstractmethod\n",
        "class Vehicle(ABC):\n",
        "  @abstractmethod\n",
        "  def move(self):\n",
        "    pass\n",
        "\n",
        "class Car(Vehicle):\n",
        "  def move(self):\n",
        "    return \"The car is driving on the road\"\n",
        "\n",
        "class Boat(Vehicle):\n",
        "  def move(self):\n",
        "    return \"The boat is sailing on water\"\n",
        "\n",
        "car = Car()\n",
        "boat = Boat()\n",
        "\n",
        "print(car.move())"
      ],
      "metadata": {
        "colab": {
          "base_uri": "https://localhost:8080/"
        },
        "id": "e9-y3_716wYd",
        "outputId": "982e6229-4e1a-42fc-ec51-c70a3b59959c"
      },
      "execution_count": null,
      "outputs": [
        {
          "output_type": "stream",
          "name": "stdout",
          "text": [
            "The car is driving on the road\n"
          ]
        }
      ]
    },
    {
      "cell_type": "code",
      "source": [
        "#Polymorphism\n",
        "#Different classes can define the same method with different behavior.\n",
        "class Person:\n",
        "  def __init__(self, name, job, age):\n",
        "    self.name = name\n",
        "    self.job = job\n",
        "    self.age = age\n",
        "\n",
        "  def get_details(self):\n",
        "       return f\"Hi my name is {self.name}, I work at {self.job} and I am {self.age} years old\"\n",
        "\n",
        "\n",
        "class Bob(Person):\n",
        "  def __init__(self, name, job, age, sport):\n",
        "    super().__init__(name, job, age)\n",
        "    self.sport = sport\n",
        "\n",
        "  def get_details(self):\n",
        "     return f\"Hi my name is {self.name}, I work at {self.job} and I am {self.age} years old and I do {self.sport}\"\n",
        "\n",
        "class Alice(Person):\n",
        "  def __init__(self, name, job, age, skill):\n",
        "    super().__init__(name, job, age)\n",
        "    self.skill = skill\n",
        "\n",
        "  def get_details(self):\n",
        "   return f\"Hi my name is {self.name}, I work at {self.job} and I am {self.age} years old and I do {self.skill}\"\n",
        "\n",
        "alice = Alice(\"Alice\", \"Engineer\", 23, \"archery\")\n",
        "\n",
        "print(alice.get_details())\n"
      ],
      "metadata": {
        "colab": {
          "base_uri": "https://localhost:8080/"
        },
        "id": "q1ZBHNfR76JJ",
        "outputId": "d5a297d8-86f3-4971-8394-2608f835a0c1"
      },
      "execution_count": null,
      "outputs": [
        {
          "output_type": "stream",
          "name": "stdout",
          "text": [
            "Hi my name is Alice, I work at Engineer and I am 23 years old and I do archery\n"
          ]
        }
      ]
    },
    {
      "cell_type": "markdown",
      "source": [],
      "metadata": {
        "id": "9DyzQGMF9HCF"
      }
    }
  ]
}