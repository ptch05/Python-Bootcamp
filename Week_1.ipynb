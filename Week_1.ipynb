{
  "nbformat": 4,
  "nbformat_minor": 0,
  "metadata": {
    "colab": {
      "provenance": []
    },
    "kernelspec": {
      "name": "python3",
      "display_name": "Python 3"
    },
    "language_info": {
      "name": "python"
    }
  },
  "cells": [
    {
      "cell_type": "code",
      "execution_count": null,
      "metadata": {
        "colab": {
          "base_uri": "https://localhost:8080/",
          "height": 53
        },
        "id": "ElGB72qRTnC0",
        "outputId": "ec5a2b25-ccf1-46e1-c59a-0f6b4f19ca4f"
      },
      "outputs": [
        {
          "output_type": "stream",
          "name": "stdout",
          "text": [
            "123helloo 102190201920192019290 \n"
          ]
        },
        {
          "output_type": "execute_result",
          "data": {
            "text/plain": [
              "'\\nThis code does soomething\\n'"
            ],
            "application/vnd.google.colaboratory.intrinsic+json": {
              "type": "string"
            }
          },
          "metadata": {},
          "execution_count": 1
        }
      ],
      "source": [
        "# Use hashtags to comment something out\n",
        "\n",
        "print(\"123helloo 102190201920192019290 \") #print is a built-in function, read on python documentation to understand more about that, use \"\" to write in a string\n",
        "\n",
        "\"\"\"\n",
        "This code does soomething\n",
        "\"\"\""
      ]
    },
    {
      "cell_type": "code",
      "source": [
        "#Variables + Data Types\n",
        "\n",
        "#Ints, strings, floats, booleans etc\n",
        "x = 5\n",
        "x = 5.2 #Python is dynamically typed so this replaces the previous x = 5\n",
        "#print(x)\n",
        "\n",
        "x = True\n",
        "#print(x)\n",
        "Y = False\n",
        "\n",
        "#print(10>9)\n",
        "\n",
        "u = \"Hello\"\n",
        "\n",
        "c = 'b'\n",
        "\n",
        "# + - / % ** //, some maths operations you can do with python\n",
        "\n",
        "x = 4\n",
        "y = 2\n",
        "z = 3\n",
        "#print(x + y + z)\n",
        "\n",
        "a = \"This \"\n",
        "b = \"is \"\n",
        "c = \"Coding\"\n",
        "\n",
        "print(a + b + c)\n",
        "print(f\"{a} auksgdaydasd {b} {c} {a}     {a} {a}\") #f string allows you to just put the variables into the print by just putting them in a {} instead of concatenating it each time\n",
        "print(\"    s     \")\n"
      ],
      "metadata": {
        "colab": {
          "base_uri": "https://localhost:8080/"
        },
        "id": "_ZokXxAvUfVh",
        "outputId": "aaa5ffbb-a68e-4b53-a45d-9a7675feeffd"
      },
      "execution_count": null,
      "outputs": [
        {
          "output_type": "stream",
          "name": "stdout",
          "text": [
            "This is Coding\n",
            "This  auksgdaydasd is  Coding This      This  This \n",
            "    s     \n"
          ]
        }
      ]
    },
    {
      "cell_type": "code",
      "source": [
        "#I/O\n",
        "\n",
        "x = int(input(\"Insert a number: \")) #only allows integer inputs, gives error otherwise\n",
        "\n",
        "y = input(\"Insert a string: \") # same but instead string inputs\n",
        "\n",
        "z = float(input(\"Insert a float: \")) #same but floats\n",
        "\n"
      ],
      "metadata": {
        "id": "5R9gZgZFXxbw",
        "colab": {
          "base_uri": "https://localhost:8080/"
        },
        "outputId": "a2330091-0691-420d-bced-5c839b474524"
      },
      "execution_count": null,
      "outputs": [
        {
          "name": "stdout",
          "output_type": "stream",
          "text": [
            "Insert a number: 3\n",
            "Insert a string: st\n",
            "Insert a float: 3.3\n"
          ]
        }
      ]
    },
    {
      "cell_type": "code",
      "source": [
        "x = -2\n",
        "y = 1\n",
        "\n",
        "if x == 5:\n",
        "  print(True)\n",
        "else:\n",
        "  print(False)\n",
        "\n",
        "#and, or, is not\n",
        "\n"
      ],
      "metadata": {
        "colab": {
          "base_uri": "https://localhost:8080/"
        },
        "id": "Dh3AEeJfYWir",
        "outputId": "a5671bf2-0edd-40a5-898b-ed7637321c73"
      },
      "execution_count": null,
      "outputs": [
        {
          "output_type": "stream",
          "name": "stdout",
          "text": [
            "True\n"
          ]
        }
      ]
    },
    {
      "cell_type": "code",
      "source": [
        "#Loops\n",
        "#2 Types of loops, while and for loops\n",
        "i = 1\n",
        "while i < 6:\n",
        "  print(i)\n",
        "  i += 1"
      ],
      "metadata": {
        "colab": {
          "base_uri": "https://localhost:8080/"
        },
        "id": "wTRkCN3xatCN",
        "outputId": "4633bd7c-6f8e-4684-f1d4-2dacca3eec65"
      },
      "execution_count": null,
      "outputs": [
        {
          "output_type": "stream",
          "name": "stdout",
          "text": [
            "1\n",
            "2\n",
            "3\n",
            "4\n",
            "5\n"
          ]
        }
      ]
    },
    {
      "cell_type": "code",
      "source": [
        "i = 0\n",
        "while i < 6:\n",
        "  i +=1\n",
        "  if i ==3:\n",
        "    continue # just skips this condition\n",
        "  print(i)\n",
        "\n",
        "def add():\n",
        "  pass # put in pass if you haven't yet got any logic to include in the function but just don't want to deal with any errors pretty much"
      ],
      "metadata": {
        "colab": {
          "base_uri": "https://localhost:8080/"
        },
        "id": "w1g8snB3bOki",
        "outputId": "af8bf577-e4c5-4b56-b23f-28611b2fa7f6"
      },
      "execution_count": null,
      "outputs": [
        {
          "output_type": "stream",
          "name": "stdout",
          "text": [
            "1\n",
            "2\n",
            "4\n",
            "5\n",
            "6\n"
          ]
        }
      ]
    },
    {
      "cell_type": "code",
      "source": [
        "#For loops\n",
        "fruits = [\"apple\", \"banana\", \"cherry\", \"mango\"] #This is a list which is explained later\n",
        "\n",
        "\n",
        "\n",
        "\n",
        "\n",
        "\n",
        "#for x in range(4):\n",
        " # print(x)\n",
        "\n",
        "for x in range(2,30,3): #Loop through numbers starting from 2 up to (but not including) 30, incrementing by 3 on each iteration\n",
        "  print(x)\n"
      ],
      "metadata": {
        "colab": {
          "base_uri": "https://localhost:8080/"
        },
        "id": "Tku98cbrbek2",
        "outputId": "e0a8b244-bb03-4b25-c837-747d73e8e301"
      },
      "execution_count": null,
      "outputs": [
        {
          "output_type": "stream",
          "name": "stdout",
          "text": [
            "2\n",
            "5\n",
            "8\n",
            "11\n",
            "14\n",
            "17\n",
            "20\n",
            "23\n",
            "26\n",
            "29\n"
          ]
        }
      ]
    },
    {
      "cell_type": "code",
      "source": [
        "#number = 5\n",
        "\n",
        "def add(num, num2, num3): #Parameters (the stuff inside the brackets) allow you to pass values or data into a function, making the function more flexible and reusable.\n",
        "  return num + num2 + num3\n",
        "\n",
        "\n",
        "\n",
        "print(add(2,3, 6))\n",
        "\n",
        "\n",
        "\n"
      ],
      "metadata": {
        "colab": {
          "base_uri": "https://localhost:8080/"
        },
        "id": "U8YLMnNigoXl",
        "outputId": "f5b247a5-3436-493e-ad26-c7d41a411c69"
      },
      "execution_count": null,
      "outputs": [
        {
          "output_type": "stream",
          "name": "stdout",
          "text": [
            "11\n"
          ]
        }
      ]
    },
    {
      "cell_type": "code",
      "source": [
        "#Data Structures\n",
        "#Tuples, List, Set, Dictionary (in the session we only talked about lists and dictionaries, we might do tuples and sets next session maybe)\n",
        "\n",
        "#Lists are used to store multiple items in a signle variable and you make using square brackets\n",
        "\n",
        "fruits = [\"apple\", \"banana\", \"cherry\", \"mango\"]\n",
        "#         index 0    1         2         3\n",
        "#In reverse,   -4   -3         -2        -1\n",
        "\n",
        "fruits_length = len(fruits) #len gets length of list\n",
        "#print(fruits_length)\n",
        "\n",
        "print(fruits[1]) #prints the element at index 1, in this case that would be banana\n",
        "\n",
        "fruits[0] = \"grapefruits\" #modifies element at index 0\n",
        "print(fruits)\n",
        "\n",
        "fruits.append(\"strawberry\") #adds element to the end (in the case of a list it would be the right side)\n",
        "#print(fruits)\n",
        "\n",
        "fruits.remove(\"mango\")\n",
        "#print(fruits)\n",
        "\n",
        "fruits.sort() #sorts list, numbers would go up by numerical order , strings would be alphabetical order\n",
        "#print(fruits)\n",
        "\n",
        "x = [3,2,1]\n",
        "x.sort()\n",
        "#print(x)"
      ],
      "metadata": {
        "colab": {
          "base_uri": "https://localhost:8080/"
        },
        "id": "pJz-0qlbjh9u",
        "outputId": "a71e2c2c-3516-4510-d919-455f3eedd322"
      },
      "execution_count": null,
      "outputs": [
        {
          "output_type": "stream",
          "name": "stdout",
          "text": [
            "['grapefruits', 'banana', 'cherry', 'mango']\n",
            "['banana', 'cherry', 'grapefruits', 'strawberry']\n",
            "[1, 2, 3]\n"
          ]
        }
      ]
    },
    {
      "cell_type": "code",
      "source": [
        "#Dictionaries (aka hash maps)\n",
        "#Used to store data values in key:value pairs\n",
        "\n",
        "car_specs = {\"brand\": \"Ford\", \"model\": \"Mustang\", \"year\": \"1964\"} #create a dictionary using {} then putting a key : value\n",
        "\n",
        "print(car_specs[\"year\"]) #to access the value of the key year. Could also use .get()\n",
        "\n",
        "car_specs[\"fuel type\"] = \"Diesel\" #adds a key value pair to end of dictionary, could also use .update()\n",
        "\n",
        "print(car_specs)\n",
        "\n",
        "car_specs.pop(\"fuel type\") #removes a key value pair entirely\n",
        "print(car_specs)"
      ],
      "metadata": {
        "colab": {
          "base_uri": "https://localhost:8080/"
        },
        "id": "UF3R_WsskCqz",
        "outputId": "9bc5d425-5db2-4207-ae9a-cb8d4151bffd"
      },
      "execution_count": null,
      "outputs": [
        {
          "output_type": "stream",
          "name": "stdout",
          "text": [
            "1964\n",
            "{'brand': 'Ford', 'model': 'Mustang', 'year': '1964', 'fuel type': 'Diesel'}\n",
            "{'brand': 'Ford', 'model': 'Mustang', 'year': '1964'}\n"
          ]
        }
      ]
    },
    {
      "cell_type": "code",
      "source": [
        "#Simple project: Basic Calculator\n",
        "\n",
        "#Here I'm just defining 4 functions that take in 2 parameters x and y\n",
        "def add(x, y):\n",
        "  return x + y\n",
        "\n",
        "def subtract(x,y):\n",
        "  return x - y\n",
        "\n",
        "def multiply(x,y):\n",
        "  return x * y\n",
        "\n",
        "def divide(x,y):\n",
        "  if y!=0: #cant divide by 0 so handling that edge case by making it so this only runs if y isnt 0\n",
        "    return x / y\n",
        "  else:\n",
        "    return \"Error!\"\n",
        "\n",
        "while True: #this entire block of code continously runs until the break statement right at the bottom\n",
        "  print(\"Select an operation, 1.Add, 2.Subtract, 3.Multiply, 4.Divide\") #simple print statement that just tells the user something\n",
        "\n",
        "  choice = input(\"Enter choice: \").strip() #allows user to input an option (as a string but really it should be an int), .strip() removes any whitespace so \"    2    \" would just be handled as \"2\"\n",
        "\n",
        "  if choice in ['1','2','3','4']: #checks if the choice that was inputted is in this list of numbers\n",
        "    num1 = float(input(\"Enter first number: \"))\n",
        "    num2 = float(input(\"Enter second number: \"))\n",
        "\n",
        "    if choice == '1':\n",
        "      print(f\"{num1} + {num2} = {add(num1,num2)}\") #again used an f string so I didn't need to say \"plus\" over and over\n",
        "    elif choice == '2':\n",
        "      print(f\"{num1} - {num2} = {subtract(num1,num2)}\")\n",
        "    elif choice == '3':\n",
        "      print(f\"{num1} * {num2} = {multiply(num1,num2)}\")\n",
        "    elif choice == '4':\n",
        "      print(f\"{num1} / {num2} = {divide(num1,num2)}\")\n",
        "    else:\n",
        "      print(\"Invalid choice. Please select a valid operation.\") #If neither 1 nor 2 nor 3 nor 4 were inputted, it gives this\n",
        "\n",
        "  again = input(\"Do you want to do this again? (yes/no):\") #outputs this at the end and automatically breaks the loop if anything aside from exactly \"yes\" is given\n",
        "  if again.lower() != 'yes':\n",
        "    break"
      ],
      "metadata": {
        "colab": {
          "base_uri": "https://localhost:8080/"
        },
        "id": "AaPS1khtmatf",
        "outputId": "0876b4dc-ee17-4d46-e521-071e5d26a9b0"
      },
      "execution_count": null,
      "outputs": [
        {
          "name": "stdout",
          "output_type": "stream",
          "text": [
            "Select an operation, 1.Add, 2.Subtract, 3.Multiply, 4.Divide\n",
            "Enter choice: 2\n",
            "Enter first number: 90\n",
            "Enter second number: 45\n",
            "90.0 - 45.0 = 45.0\n",
            "Do you want to do this again? (yes/no):yes\n",
            "Select an operation, 1.Add, 2.Subtract, 3.Multiply, 4.Divide\n",
            "Enter choice: 3\n",
            "Enter first number: 29\n",
            "Enter second number: 39\n",
            "29.0 * 39.0 = 1131.0\n",
            "Do you want to do this again? (yes/no):asugdasukdoausduyasoudasdas\n"
          ]
        }
      ]
    },
    {
      "cell_type": "code",
      "source": [
        "\n"
      ],
      "metadata": {
        "id": "1YKqAKx3mzAH"
      },
      "execution_count": null,
      "outputs": []
    }
  ]
}